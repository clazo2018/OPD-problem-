{
 "cells": [
  {
   "cell_type": "code",
   "execution_count": 1,
   "id": "b91ed70d-b8a2-4a96-8588-64460e4d6de8",
   "metadata": {},
   "outputs": [],
   "source": [
    "%reload_ext autoreload\n",
    "%autoreload 2\n",
    "import opdproblem as opd"
   ]
  },
  {
   "cell_type": "code",
   "execution_count": 13,
   "id": "cbaa783f-8055-4a0b-9510-c32b47acc418",
   "metadata": {},
   "outputs": [],
   "source": [
    "G = opd.OPDGraph(n=100)\n"
   ]
  },
  {
   "cell_type": "code",
   "execution_count": 23,
   "id": "1d62afe5-f617-405d-8a9c-bdb87d33dd31",
   "metadata": {
    "editable": true,
    "slideshow": {
     "slide_type": ""
    },
    "tags": []
   },
   "outputs": [
    {
     "name": "stdout",
     "output_type": "stream",
     "text": [
      "2.62 ms ± 163 µs per loop (mean ± std. dev. of 7 runs, 100 loops each)\n"
     ]
    }
   ],
   "source": [
    "%%timeit\n",
    "C = G.min_certificate()"
   ]
  },
  {
   "cell_type": "code",
   "execution_count": 24,
   "id": "bceb767b-9673-427a-8be9-b0c53773f39d",
   "metadata": {},
   "outputs": [
    {
     "name": "stdout",
     "output_type": "stream",
     "text": [
      "[(0, 1), (20, 1), (0, 20)]\n"
     ]
    }
   ],
   "source": [
    "print(C)"
   ]
  },
  {
   "cell_type": "code",
   "execution_count": 11,
   "id": "563ffba2-9615-4233-bcbb-841c94d2d29f",
   "metadata": {},
   "outputs": [
    {
     "data": {
      "text/plain": [
       "30"
      ]
     },
     "execution_count": 11,
     "metadata": {},
     "output_type": "execute_result"
    }
   ],
   "source": [
    "len(C)"
   ]
  },
  {
   "cell_type": "code",
   "execution_count": 12,
   "id": "593a305d-7bed-44bd-9933-1057ab4c58dd",
   "metadata": {},
   "outputs": [
    {
     "data": {
      "text/plain": [
       "300"
      ]
     },
     "execution_count": 12,
     "metadata": {},
     "output_type": "execute_result"
    }
   ],
   "source": [
    "len(list((G.graph.edges())))"
   ]
  }
 ],
 "metadata": {
  "kernelspec": {
   "display_name": "Python 3 (ipykernel)",
   "language": "python",
   "name": "python3"
  },
  "language_info": {
   "codemirror_mode": {
    "name": "ipython",
    "version": 3
   },
   "file_extension": ".py",
   "mimetype": "text/x-python",
   "name": "python",
   "nbconvert_exporter": "python",
   "pygments_lexer": "ipython3",
   "version": "3.11.7"
  },
  "widgets": {
   "application/vnd.jupyter.widget-state+json": {
    "state": {},
    "version_major": 2,
    "version_minor": 0
   }
  }
 },
 "nbformat": 4,
 "nbformat_minor": 5
}
