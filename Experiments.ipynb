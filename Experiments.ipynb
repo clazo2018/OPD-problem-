{
 "cells": [
  {
   "cell_type": "markdown",
   "id": "773873e7",
   "metadata": {},
   "source": [
    "# Paquetes"
   ]
  },
  {
   "cell_type": "code",
   "execution_count": 1,
   "id": "e00a94db",
   "metadata": {
    "ExecuteTime": {
     "end_time": "2024-03-08T18:01:56.437823Z",
     "start_time": "2024-03-08T18:01:54.411405Z"
    }
   },
   "outputs": [],
   "source": [
    "import random as rd\n",
    "import networkx as nx\n",
    "import pandas as pd\n",
    "import matplotlib.pyplot as plt"
   ]
  },
  {
   "cell_type": "code",
   "execution_count": 21,
   "id": "28a3f7d5",
   "metadata": {
    "ExecuteTime": {
     "end_time": "2024-03-08T20:55:01.840963Z",
     "start_time": "2024-03-08T20:55:01.783346Z"
    }
   },
   "outputs": [],
   "source": [
    "G = nx.complete_graph(4)"
   ]
  },
  {
   "cell_type": "code",
   "execution_count": 23,
   "id": "245ad5d0",
   "metadata": {
    "ExecuteTime": {
     "end_time": "2024-03-08T20:55:08.562293Z",
     "start_time": "2024-03-08T20:55:08.500220Z"
    }
   },
   "outputs": [
    {
     "data": {
      "text/plain": [
       "{0, 3}"
      ]
     },
     "execution_count": 23,
     "metadata": {},
     "output_type": "execute_result"
    }
   ],
   "source": [
    "G.nodes()- {2, 1}"
   ]
  },
  {
   "cell_type": "markdown",
   "id": "8d1286e5",
   "metadata": {},
   "source": [
    "# Experimentos "
   ]
  },
  {
   "cell_type": "code",
   "execution_count": 2,
   "id": "394cd8a7",
   "metadata": {
    "ExecuteTime": {
     "end_time": "2024-03-08T18:01:56.498759Z",
     "start_time": "2024-03-08T18:01:56.438838Z"
    }
   },
   "outputs": [],
   "source": [
    "%reload_ext autoreload\n",
    "%autoreload 2\n",
    "import opdproblem as opd"
   ]
  },
  {
   "cell_type": "code",
   "execution_count": 3,
   "id": "84f2f6ed",
   "metadata": {
    "ExecuteTime": {
     "end_time": "2024-03-08T18:01:56.548966Z",
     "start_time": "2024-03-08T18:01:56.500765Z"
    }
   },
   "outputs": [],
   "source": [
    "n_clique = 20"
   ]
  },
  {
   "cell_type": "code",
   "execution_count": 4,
   "id": "ddb2bb6d",
   "metadata": {
    "ExecuteTime": {
     "end_time": "2024-03-08T18:03:47.773078Z",
     "start_time": "2024-03-08T18:01:56.550538Z"
    }
   },
   "outputs": [
    {
     "name": "stdout",
     "output_type": "stream",
     "text": [
      "es el grafo  k4\n",
      "es el grafo  k5\n",
      "es el grafo  k6\n",
      "es el grafo  k7\n",
      "es el grafo  k8\n",
      "es el grafo  k9\n",
      "es el grafo  k10\n",
      "es el grafo  k11\n",
      "es el grafo  k12\n",
      "es el grafo  k13\n",
      "es el grafo  k14\n",
      "es el grafo  k15\n",
      "es el grafo  k16\n",
      "es el grafo  k17\n",
      "es el grafo  k18\n",
      "es el grafo  k19\n",
      "es el grafo  k20\n"
     ]
    }
   ],
   "source": [
    "n_clique = n_clique + 1 \n",
    "cert_dic = {}\n",
    "opd.seed(42)\n",
    "\n",
    "for n in range(4, n_clique):\n",
    "\n",
    "    print(f'es el grafo  k{n}')\n",
    "#     print('+' * 10)\n",
    "    for i in range(100):\n",
    "#         print('es la instancia: ', i)\n",
    "#         print('-' * 10)\n",
    "\n",
    "        # se inicializa el grafo y el algoritmo\n",
    "        G = opd.OPDGraph(n=n)\n",
    "        search = opd.Alg(G)\n",
    "\n",
    "        # Se busca el alpha-certificado\n",
    "        search_inf = search.search_app(method='inf')\n",
    "        search_sup = search.search_app(method='sup')\n",
    "        search_random = search.search_app(method='random')\n",
    "        \n",
    "        # Se guardan los datos\n",
    "        cert_dic[(f'k{n}', 'inf', f'inst{i}')] = search_inf\n",
    "        cert_dic[(f'k{n}', 'sup', f'inst{i}')] = search_sup\n",
    "        cert_dic[(f'k{n}', 'random', f'inst{i}')] = search_random"
   ]
  },
  {
   "cell_type": "code",
   "execution_count": 5,
   "id": "0edde107",
   "metadata": {
    "ExecuteTime": {
     "end_time": "2024-03-08T18:03:47.895156Z",
     "start_time": "2024-03-08T18:03:47.775137Z"
    }
   },
   "outputs": [],
   "source": [
    "dfs = {}\n",
    "for k in range(4, n_clique):  \n",
    "    # Filtrar las claves del diccionario por la clave k actual\n",
    "    filtered_keys = [key for key in cert_dic.keys() if key[0] == f'k{k}']\n",
    "    \n",
    "    # Crear un diccionario temporal para almacenar los datos filtrados\n",
    "    temp_data = {}\n",
    "    \n",
    "    # Llenar el diccionario temporal con los datos filtrados\n",
    "    for key in filtered_keys:\n",
    "        inf_sup = key[1]\n",
    "        inst = key[2]\n",
    "        if inst not in temp_data:\n",
    "            temp_data[inst] = {'inf': None, 'sup': None}\n",
    "        temp_data[inst][inf_sup] = cert_dic[key]\n",
    "    \n",
    "    # Crear un DataFrame para el conjunto filtrado y agregarlo a dfs\n",
    "    df = pd.DataFrame(temp_data).transpose()\n",
    "    df.index.name = 'inst'\n",
    "    dfs[f'k{k}'] = df"
   ]
  },
  {
   "cell_type": "markdown",
   "id": "28bf303a",
   "metadata": {},
   "source": [
    "# Extraccion de la Data"
   ]
  },
  {
   "cell_type": "code",
   "execution_count": 6,
   "id": "4207d4b5",
   "metadata": {
    "ExecuteTime": {
     "end_time": "2024-03-08T18:03:47.961876Z",
     "start_time": "2024-03-08T18:03:47.896211Z"
    }
   },
   "outputs": [],
   "source": [
    "certificado_dict = {}\n",
    "def primer_elemento(lista):\n",
    "    return lista[0]\n",
    "for clave, df in dfs.items():\n",
    "    df = df['inf']\n",
    "    df = pd.DataFrame(df)\n",
    "    dict_aux = {}\n",
    "    # Aplicar la función a cada celda de la columna y guardar el resultado en una nueva columna\n",
    "    for col in df.columns:\n",
    "        dict_aux[col + '_primer_elemento'] = df[col].apply(primer_elemento)\n",
    "    df_aux = pd.DataFrame(dict_aux)\n",
    "    certificado_dict[clave] = df_aux"
   ]
  },
  {
   "cell_type": "code",
   "execution_count": 7,
   "id": "5b4140cc",
   "metadata": {
    "ExecuteTime": {
     "end_time": "2024-03-08T18:03:48.023104Z",
     "start_time": "2024-03-08T18:03:47.962892Z"
    }
   },
   "outputs": [],
   "source": [
    "def eliminar_duplicados(lista):\n",
    "    if isinstance(lista, list):\n",
    "        return [tupla for i, tupla in enumerate(lista) if tupla not in lista[:i]]\n",
    "    else:\n",
    "        return lista\n",
    "\n",
    "for clave, df in certificado_dict.items():\n",
    "    certificado_dict[clave]['inf_primer_elemento'] = df['inf_primer_elemento'].apply(eliminar_duplicados)"
   ]
  },
  {
   "cell_type": "code",
   "execution_count": 8,
   "id": "eda23242",
   "metadata": {
    "ExecuteTime": {
     "end_time": "2024-03-08T18:03:48.078022Z",
     "start_time": "2024-03-08T18:03:48.024109Z"
    }
   },
   "outputs": [
    {
     "name": "stdout",
     "output_type": "stream",
     "text": [
      "Cantidad de elementos en cada lista y su frecuencia:\n",
      "Cantidad de elementos: 1, Frecuencia: 759\n",
      "Cantidad de elementos: 3, Frecuencia: 247\n",
      "Cantidad de elementos: 4, Frecuencia: 153\n",
      "Cantidad de elementos: 2, Frecuencia: 210\n",
      "Cantidad de elementos: 5, Frecuencia: 107\n",
      "Cantidad de elementos: 7, Frecuencia: 57\n",
      "Cantidad de elementos: 6, Frecuencia: 63\n",
      "Cantidad de elementos: 9, Frecuencia: 21\n",
      "Cantidad de elementos: 10, Frecuencia: 17\n",
      "Cantidad de elementos: 8, Frecuencia: 29\n",
      "Cantidad de elementos: 11, Frecuencia: 13\n",
      "Cantidad de elementos: 15, Frecuencia: 4\n",
      "Cantidad de elementos: 14, Frecuencia: 4\n",
      "Cantidad de elementos: 12, Frecuencia: 6\n",
      "Cantidad de elementos: 19, Frecuencia: 2\n",
      "Cantidad de elementos: 13, Frecuencia: 6\n",
      "Cantidad de elementos: 16, Frecuencia: 1\n",
      "Cantidad de elementos: 18, Frecuencia: 1\n"
     ]
    }
   ],
   "source": [
    "\n",
    "# Diccionario para almacenar los recuentos\n",
    "element_count = {}\n",
    "for clave, df in certificado_dict.items():\n",
    "\n",
    "# Iterar sobre cada lista en la columna 'inst'\n",
    "    for lista in df['inf_primer_elemento']:\n",
    "        # Contar la cantidad de elementos en la lista\n",
    "        cantidad_elementos = len(lista)\n",
    "\n",
    "        # Incrementar el contador correspondiente en el diccionario\n",
    "        if cantidad_elementos in element_count:\n",
    "            element_count[cantidad_elementos] += 1\n",
    "        else:\n",
    "            element_count[cantidad_elementos] = 1\n",
    "\n",
    "# Imprimir los resultados\n",
    "print(\"Cantidad de elementos en cada lista y su frecuencia:\")\n",
    "for cantidad, frecuencia in element_count.items():\n",
    "    print(f\"Cantidad de elementos: {cantidad}, Frecuencia: {frecuencia}\")\n",
    "\n"
   ]
  },
  {
   "cell_type": "markdown",
   "id": "68556719",
   "metadata": {},
   "source": [
    "# Graficos "
   ]
  },
  {
   "cell_type": "code",
   "execution_count": 9,
   "id": "f307466b",
   "metadata": {
    "ExecuteTime": {
     "end_time": "2024-03-08T18:03:48.462071Z",
     "start_time": "2024-03-08T18:03:48.079027Z"
    }
   },
   "outputs": [
    {
     "data": {
      "image/png": "[encoded data removed]",
      "text/plain": [
       "<Figure size 640x480 with 1 Axes>"
      ]
     },
     "metadata": {},
     "output_type": "display_data"
    }
   ],
   "source": [
    "# Convertir el diccionario en listas para la visualización\n",
    "cantidad_elementos = list(element_count.keys())\n",
    "frecuencias = list(element_count.values())\n",
    "\n",
    "# Crear el gráfico de barras\n",
    "plt.bar(element_count.keys(), element_count.values(), color='skyblue', tick_label=list(element_count.keys()))\n",
    "\n",
    "# Agregar etiquetas y título\n",
    "plt.xlabel('Cantidad de aristas en el certificado')\n",
    "plt.ylabel('Frecuencia')\n",
    "plt.title('Tamaño del alpha-certificado')\n",
    "\n",
    "# Mostrar el gráfico\n",
    "plt.show()"
   ]
  }
 ],
 "metadata": {
  "kernelspec": {
   "display_name": "Python 3 (ipykernel)",
   "language": "python",
   "name": "python3"
  },
  "language_info": {
   "codemirror_mode": {
    "name": "ipython",
    "version": 3
   },
   "file_extension": ".py",
   "mimetype": "text/x-python",
   "name": "python",
   "nbconvert_exporter": "python",
   "pygments_lexer": "ipython3",
   "version": "3.11.5"
  },
  "toc": {
   "base_numbering": 1,
   "nav_menu": {},
   "number_sections": true,
   "sideBar": true,
   "skip_h1_title": false,
   "title_cell": "Table of Contents",
   "title_sidebar": "Contents",
   "toc_cell": false,
   "toc_position": {},
   "toc_section_display": true,
   "toc_window_display": false
  }
 },
 "nbformat": 4,
 "nbformat_minor": 5
}
