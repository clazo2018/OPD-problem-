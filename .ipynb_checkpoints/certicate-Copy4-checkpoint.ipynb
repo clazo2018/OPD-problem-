{
 "cells": [
  {
   "cell_type": "code",
   "execution_count": 2,
   "id": "b91ed70d-b8a2-4a96-8588-64460e4d6de8",
   "metadata": {},
   "outputs": [],
   "source": [
    "%reload_ext autoreload\n",
    "%autoreload 2\n",
    "import opdproblem as opd\n",
    "import pandas as pd\n",
    "import networkx as nx\n",
    "import matplotlib.pyplot as plt\n",
    "import joblib\n",
    "import sys\n",
    "from tqdm import tqdm\n",
    "import time"
   ]
  },
  {
   "cell_type": "markdown",
   "id": "4b48bc5f-0e94-4114-ae2d-c2714210aef5",
   "metadata": {},
   "source": [
    "# Importar Dataframes de los experimentos"
   ]
  },
  {
   "cell_type": "code",
   "execution_count": 3,
   "id": "4e1e2ebe-daaf-4065-bd3b-5fd637d1dfa9",
   "metadata": {},
   "outputs": [],
   "source": [
    "# Cargar DataFrame desde el archivo\n",
    "df_unbounded_homogeneous = joblib.load('df_unbounded_homogeneous.pkl')"
   ]
  },
  {
   "cell_type": "code",
   "execution_count": 4,
   "id": "c8b5f9ff-5a16-4679-a430-4ad56130cddc",
   "metadata": {},
   "outputs": [],
   "source": [
    "# Cargar DataFrame desde el archivo\n",
    "df_unbounded_non_homogeneous = joblib.load('df_unbounded_non_homogeneous.pkl')"
   ]
  },
  {
   "cell_type": "code",
   "execution_count": 5,
   "id": "23c8ee7f-cc98-47a8-a2c0-7cc6b378dba5",
   "metadata": {},
   "outputs": [],
   "source": [
    "# Cargar DataFrame desde el archivo\n",
    "df_bounded_homogeneous = joblib.load('df_bounded_homogeneous.pkl')"
   ]
  },
  {
   "cell_type": "code",
   "execution_count": 6,
   "id": "c3c236bf-f0de-4d1d-a49a-900852e3c4c5",
   "metadata": {},
   "outputs": [],
   "source": [
    "# Cargar DataFrame desde el archivo\n",
    "df_bounded_non_homogeneous_100 = joblib.load('df_bounded_non_homogeneous_100.pkl')"
   ]
  },
  {
   "cell_type": "code",
   "execution_count": 7,
   "id": "1cf9276e-eda9-44b2-8ea6-5dbb8dffae0b",
   "metadata": {},
   "outputs": [],
   "source": [
    "# Cargar DataFrame desde el archivo\n",
    "df_bounded_non_homogeneous_100 = joblib.load('df_bounded_non_homogeneous_1000.pkl')"
   ]
  },
  {
   "cell_type": "code",
   "execution_count": 8,
   "id": "6942f195-f113-4932-98ae-f234090eaf84",
   "metadata": {},
   "outputs": [],
   "source": [
    "# Cargar DataFrame desde el archivo\n",
    "df_bounded_non_homogeneous_100 = joblib.load('df_bounded_non_homogeneous_10000.pkl')"
   ]
  },
  {
   "cell_type": "markdown",
   "id": "0e44ce21-ca60-47f8-97f9-b800d5beb02b",
   "metadata": {},
   "source": [
    "# Desarrollo"
   ]
  },
  {
   "cell_type": "code",
   "execution_count": 15,
   "id": "e67bd2e8-6f1f-4c1d-9164-f9807af772f2",
   "metadata": {},
   "outputs": [
    {
     "name": "stderr",
     "output_type": "stream",
     "text": [
      "Procesando clique: 100%|██████████████████████| 2/2 [00:07<00:00,  3.75s/clique]\n"
     ]
    },
    {
     "data": {
      "text/plain": [
       "['dataframes_min/df_unbounded_homogeneous.pkl']"
      ]
     },
     "execution_count": 15,
     "metadata": {},
     "output_type": "execute_result"
    }
   ],
   "source": [
    "\n",
    "cliques = ['k4', 'k5']\n",
    "\n",
    "#df_unbounded_homogeneous['clique'].unique()\n",
    "dfclique_list =[]\n",
    "# Límite de tiempo en segundos para cada iteración\n",
    "limite_tiempo_iteracion = 7200  # Por ejemplo, 1 hora\n",
    "\n",
    "for clique in tqdm(cliques, desc='Procesando clique', unit='clique'):\n",
    "    tiempo_inicio_iteracion = time.time()\n",
    "    \n",
    "\n",
    "    df = df_unbounded_homogeneous[df_unbounded_homogeneous['clique'] == clique].copy()\n",
    "    # Calculo de beta para cada alg\n",
    "    df.loc[:,'min_certificate'] = df.apply(lambda row: row['opd'].min_certificate(), axis=1)\n",
    "    # Tiempo transcurrido en la iteración\n",
    "    dfclique_list.append(df)\n",
    "\n",
    "    tiempo_transcurrido = time.time() - tiempo_inicio_iteracion\n",
    "    \n",
    "    # Verificar si se ha superado el límite de tiempo\n",
    "    if tiempo_transcurrido > limite_tiempo_iteracion:\n",
    "        print(f\"Se ha superado el límite de tiempo en el clique {clique}\")\n",
    "        break\n",
    "df_concatenado = pd.concat(dfclique_list)\n",
    "joblib.dump(df_concatenado, 'dataframes_min/df_unbounded_homogeneous.pkl')"
   ]
  },
  {
   "cell_type": "code",
   "execution_count": 16,
   "id": "0a9d8e8c-4275-4f80-a83d-8a5c0af70da8",
   "metadata": {},
   "outputs": [],
   "source": [
    "df = joblib.load('dataframes_min/df_unbounded_homogeneous.pkl')"
   ]
  },
  {
   "cell_type": "code",
   "execution_count": 96,
   "id": "1d62afe5-f617-405d-8a9c-bdb87d33dd31",
   "metadata": {
    "editable": true,
    "slideshow": {
     "slide_type": ""
    },
    "tags": []
   },
   "outputs": [
    {
     "ename": "AttributeError",
     "evalue": "'Graph' object has no attribute 'min_certificate'",
     "output_type": "error",
     "traceback": [
      "\u001b[0;31m---------------------------------------------------------------------------\u001b[0m",
      "\u001b[0;31mAttributeError\u001b[0m                            Traceback (most recent call last)",
      "Cell \u001b[0;32mIn[96], line 1\u001b[0m\n\u001b[0;32m----> 1\u001b[0m get_ipython()\u001b[38;5;241m.\u001b[39mrun_cell_magic(\u001b[38;5;124m'\u001b[39m\u001b[38;5;124mtimeit\u001b[39m\u001b[38;5;124m'\u001b[39m, \u001b[38;5;124m'\u001b[39m\u001b[38;5;124m'\u001b[39m, \u001b[38;5;124m'\u001b[39m\u001b[38;5;124mC = G.min_certificate()\u001b[39m\u001b[38;5;130;01m\\n\u001b[39;00m\u001b[38;5;124m'\u001b[39m)\n",
      "File \u001b[0;32m~/anaconda3/lib/python3.11/site-packages/IPython/core/interactiveshell.py:2517\u001b[0m, in \u001b[0;36mInteractiveShell.run_cell_magic\u001b[0;34m(self, magic_name, line, cell)\u001b[0m\n\u001b[1;32m   2515\u001b[0m \u001b[38;5;28;01mwith\u001b[39;00m \u001b[38;5;28mself\u001b[39m\u001b[38;5;241m.\u001b[39mbuiltin_trap:\n\u001b[1;32m   2516\u001b[0m     args \u001b[38;5;241m=\u001b[39m (magic_arg_s, cell)\n\u001b[0;32m-> 2517\u001b[0m     result \u001b[38;5;241m=\u001b[39m fn(\u001b[38;5;241m*\u001b[39margs, \u001b[38;5;241m*\u001b[39m\u001b[38;5;241m*\u001b[39mkwargs)\n\u001b[1;32m   2519\u001b[0m \u001b[38;5;66;03m# The code below prevents the output from being displayed\u001b[39;00m\n\u001b[1;32m   2520\u001b[0m \u001b[38;5;66;03m# when using magics with decorator @output_can_be_silenced\u001b[39;00m\n\u001b[1;32m   2521\u001b[0m \u001b[38;5;66;03m# when the last Python token in the expression is a ';'.\u001b[39;00m\n\u001b[1;32m   2522\u001b[0m \u001b[38;5;28;01mif\u001b[39;00m \u001b[38;5;28mgetattr\u001b[39m(fn, magic\u001b[38;5;241m.\u001b[39mMAGIC_OUTPUT_CAN_BE_SILENCED, \u001b[38;5;28;01mFalse\u001b[39;00m):\n",
      "File \u001b[0;32m~/anaconda3/lib/python3.11/site-packages/IPython/core/magics/execution.py:1185\u001b[0m, in \u001b[0;36mExecutionMagics.timeit\u001b[0;34m(self, line, cell, local_ns)\u001b[0m\n\u001b[1;32m   1183\u001b[0m \u001b[38;5;28;01mfor\u001b[39;00m index \u001b[38;5;129;01min\u001b[39;00m \u001b[38;5;28mrange\u001b[39m(\u001b[38;5;241m0\u001b[39m, \u001b[38;5;241m10\u001b[39m):\n\u001b[1;32m   1184\u001b[0m     number \u001b[38;5;241m=\u001b[39m \u001b[38;5;241m10\u001b[39m \u001b[38;5;241m*\u001b[39m\u001b[38;5;241m*\u001b[39m index\n\u001b[0;32m-> 1185\u001b[0m     time_number \u001b[38;5;241m=\u001b[39m timer\u001b[38;5;241m.\u001b[39mtimeit(number)\n\u001b[1;32m   1186\u001b[0m     \u001b[38;5;28;01mif\u001b[39;00m time_number \u001b[38;5;241m>\u001b[39m\u001b[38;5;241m=\u001b[39m \u001b[38;5;241m0.2\u001b[39m:\n\u001b[1;32m   1187\u001b[0m         \u001b[38;5;28;01mbreak\u001b[39;00m\n",
      "File \u001b[0;32m~/anaconda3/lib/python3.11/site-packages/IPython/core/magics/execution.py:173\u001b[0m, in \u001b[0;36mTimer.timeit\u001b[0;34m(self, number)\u001b[0m\n\u001b[1;32m    171\u001b[0m gc\u001b[38;5;241m.\u001b[39mdisable()\n\u001b[1;32m    172\u001b[0m \u001b[38;5;28;01mtry\u001b[39;00m:\n\u001b[0;32m--> 173\u001b[0m     timing \u001b[38;5;241m=\u001b[39m \u001b[38;5;28mself\u001b[39m\u001b[38;5;241m.\u001b[39minner(it, \u001b[38;5;28mself\u001b[39m\u001b[38;5;241m.\u001b[39mtimer)\n\u001b[1;32m    174\u001b[0m \u001b[38;5;28;01mfinally\u001b[39;00m:\n\u001b[1;32m    175\u001b[0m     \u001b[38;5;28;01mif\u001b[39;00m gcold:\n",
      "File \u001b[0;32m<magic-timeit>:1\u001b[0m, in \u001b[0;36minner\u001b[0;34m(_it, _timer)\u001b[0m\n",
      "\u001b[0;31mAttributeError\u001b[0m: 'Graph' object has no attribute 'min_certificate'"
     ]
    }
   ],
   "source": [
    "# %%timeit\n",
    "# C = G.min_certificate()"
   ]
  }
 ],
 "metadata": {
  "kernelspec": {
   "display_name": "Python 3 (ipykernel)",
   "language": "python",
   "name": "python3"
  },
  "language_info": {
   "codemirror_mode": {
    "name": "ipython",
    "version": 3
   },
   "file_extension": ".py",
   "mimetype": "text/x-python",
   "name": "python",
   "nbconvert_exporter": "python",
   "pygments_lexer": "ipython3",
   "version": "3.11.7"
  },
  "widgets": {
   "application/vnd.jupyter.widget-state+json": {
    "state": {},
    "version_major": 2,
    "version_minor": 0
   }
  }
 },
 "nbformat": 4,
 "nbformat_minor": 5
}
