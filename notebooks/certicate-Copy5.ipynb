{
 "cells": [
  {
   "cell_type": "code",
   "execution_count": 1,
   "id": "b91ed70d-b8a2-4a96-8588-64460e4d6de8",
   "metadata": {},
   "outputs": [],
   "source": [
    "%reload_ext autoreload\n",
    "%autoreload 2\n",
    "import opdproblem as opd\n",
    "import pandas as pd\n",
    "import networkx as nx\n",
    "import matplotlib.pyplot as plt\n",
    "import joblib\n",
    "import sys\n",
    "from tqdm import tqdm\n",
    "import time"
   ]
  },
  {
   "cell_type": "markdown",
   "id": "4b48bc5f-0e94-4114-ae2d-c2714210aef5",
   "metadata": {},
   "source": [
    "# Importar Dataframes de los experimentos"
   ]
  },
  {
   "cell_type": "code",
   "execution_count": 2,
   "id": "4e1e2ebe-daaf-4065-bd3b-5fd637d1dfa9",
   "metadata": {},
   "outputs": [],
   "source": [
    "# Cargar DataFrame desde el archivo\n",
    "df_unbounded_homogeneous = joblib.load('df_unbounded_homogeneous.pkl')"
   ]
  },
  {
   "cell_type": "code",
   "execution_count": 3,
   "id": "c8b5f9ff-5a16-4679-a430-4ad56130cddc",
   "metadata": {},
   "outputs": [],
   "source": [
    "# Cargar DataFrame desde el archivo\n",
    "df_unbounded_non_homogeneous = joblib.load('df_unbounded_non_homogeneous.pkl')"
   ]
  },
  {
   "cell_type": "code",
   "execution_count": 4,
   "id": "23c8ee7f-cc98-47a8-a2c0-7cc6b378dba5",
   "metadata": {},
   "outputs": [],
   "source": [
    "# Cargar DataFrame desde el archivo\n",
    "df_bounded_homogeneous = joblib.load('df_bounded_homogeneous.pkl')"
   ]
  },
  {
   "cell_type": "code",
   "execution_count": 5,
   "id": "c3c236bf-f0de-4d1d-a49a-900852e3c4c5",
   "metadata": {},
   "outputs": [],
   "source": [
    "# Cargar DataFrame desde el archivo\n",
    "df_bounded_non_homogeneous_100 = joblib.load('df_bounded_non_homogeneous_100.pkl')"
   ]
  },
  {
   "cell_type": "code",
   "execution_count": 6,
   "id": "1cf9276e-eda9-44b2-8ea6-5dbb8dffae0b",
   "metadata": {},
   "outputs": [],
   "source": [
    "# Cargar DataFrame desde el archivo\n",
    "df_bounded_non_homogeneous_1000 = joblib.load('df_bounded_non_homogeneous_1000.pkl')"
   ]
  },
  {
   "cell_type": "code",
   "execution_count": 7,
   "id": "6942f195-f113-4932-98ae-f234090eaf84",
   "metadata": {},
   "outputs": [],
   "source": [
    "# Cargar DataFrame desde el archivo\n",
    "df_bounded_non_homogeneous_10000 = joblib.load('df_bounded_non_homogeneous_10000.pkl')"
   ]
  },
  {
   "cell_type": "markdown",
   "id": "0e44ce21-ca60-47f8-97f9-b800d5beb02b",
   "metadata": {},
   "source": [
    "# Desarrollo"
   ]
  },
  {
   "cell_type": "code",
   "execution_count": null,
   "id": "e67bd2e8-6f1f-4c1d-9164-f9807af772f2",
   "metadata": {},
   "outputs": [
    {
     "name": "stderr",
     "output_type": "stream",
     "text": [
      "Procesando clique:  33%|███████              | 9/27 [00:05<00:14,  1.24clique/s]"
     ]
    }
   ],
   "source": [
    "\n",
    "cliques = df_unbounded_homogeneous['clique'].unique()\n",
    "dfclique_list =[]\n",
    "# Límite de tiempo en segundos para cada iteración\n",
    "limite_tiempo_iteracion = 7200  # Por ejemplo, 1 hora\n",
    "\n",
    "for clique in tqdm(cliques, desc='Procesando clique', unit='clique'):\n",
    "    tiempo_inicio_iteracion = time.time()\n",
    "    \n",
    "\n",
    "    df = df_bounded_non_homogeneous_10000[df_bounded_non_homogeneous_10000['clique'] == clique].copy()\n",
    "    # Calculo de beta para cada alg\n",
    "    df.loc[:,'min_certificate'] = df.apply(lambda row: row['opd'].min_certificate(), axis=1)\n",
    "    # Tiempo transcurrido en la iteración\n",
    "    dfclique_list.append(df)\n",
    "\n",
    "    tiempo_transcurrido = time.time() - tiempo_inicio_iteracion\n",
    "    \n",
    "    # Verificar si se ha superado el límite de tiempo\n",
    "    if tiempo_transcurrido > limite_tiempo_iteracion:\n",
    "        print(f\"Se ha superado el límite de tiempo en el clique {clique}\")\n",
    "        break\n",
    "df_concatenado = pd.concat(dfclique_list)\n",
    "joblib.dump(df_concatenado, 'dataframes_min/df_bounded_non_homogeneous_10000.pkl')"
   ]
  },
  {
   "cell_type": "code",
   "execution_count": null,
   "id": "1d62afe5-f617-405d-8a9c-bdb87d33dd31",
   "metadata": {
    "editable": true,
    "slideshow": {
     "slide_type": ""
    },
    "tags": []
   },
   "outputs": [],
   "source": [
    "# %%timeit\n",
    "# C = G.min_certificate()"
   ]
  }
 ],
 "metadata": {
  "kernelspec": {
   "display_name": "Python 3 (ipykernel)",
   "language": "python",
   "name": "python3"
  },
  "language_info": {
   "codemirror_mode": {
    "name": "ipython",
    "version": 3
   },
   "file_extension": ".py",
   "mimetype": "text/x-python",
   "name": "python",
   "nbconvert_exporter": "python",
   "pygments_lexer": "ipython3",
   "version": "3.11.7"
  },
  "widgets": {
   "application/vnd.jupyter.widget-state+json": {
    "state": {},
    "version_major": 2,
    "version_minor": 0
   }
  }
 },
 "nbformat": 4,
 "nbformat_minor": 5
}
